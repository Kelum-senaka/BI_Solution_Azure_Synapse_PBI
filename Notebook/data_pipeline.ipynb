{
  "cells": [
    {
      "cell_type": "code",
      "execution_count": null,
      "metadata": {},
      "outputs": [],
      "source": [
        "!pip install spotipy"
      ]
    },
    {
      "cell_type": "code",
      "execution_count": 1,
      "metadata": {
        "jupyter": {
          "outputs_hidden": false,
          "source_hidden": false
        },
        "nteract": {
          "transient": {
            "deleting": false
          }
        }
      },
      "outputs": [
        {
          "data": {
            "application/vnd.livy.statement-meta+json": {
              "execution_finish_time": "2023-08-25T06:09:27.5135701Z",
              "execution_start_time": "2023-08-25T06:09:16.7225281Z",
              "livy_statement_state": "available",
              "parent_msg_id": "bc8425be-1156-4d05-b736-f6aa44e73b97",
              "queued_time": "2023-08-25T06:07:40.3082444Z",
              "session_id": "2",
              "session_start_time": "2023-08-25T06:07:40.3685986Z",
              "spark_jobs": null,
              "spark_pool": "spany",
              "state": "finished",
              "statement_id": 2
            },
            "text/plain": [
              "StatementMeta(spany, 2, 2, Finished, Available)"
            ]
          },
          "metadata": {},
          "output_type": "display_data"
        }
      ],
      "source": [
        "import pandas as pd\n",
        "import numpy as np"
      ]
    },
    {
      "cell_type": "code",
      "execution_count": 4,
      "metadata": {
        "jupyter": {
          "outputs_hidden": false,
          "source_hidden": false
        },
        "nteract": {
          "transient": {
            "deleting": false
          }
        }
      },
      "outputs": [
        {
          "data": {
            "application/vnd.livy.statement-meta+json": {
              "execution_finish_time": "2023-08-25T06:10:18.936351Z",
              "execution_start_time": "2023-08-25T06:10:17.0759576Z",
              "livy_statement_state": "available",
              "parent_msg_id": "ad470def-1183-4459-b3f2-3a177a6228c3",
              "queued_time": "2023-08-25T06:10:16.916823Z",
              "session_id": "2",
              "session_start_time": null,
              "spark_jobs": null,
              "spark_pool": "spany",
              "state": "finished",
              "statement_id": 5
            },
            "text/plain": [
              "StatementMeta(spany, 2, 5, Finished, Available)"
            ]
          },
          "metadata": {},
          "output_type": "display_data"
        }
      ],
      "source": [
        "# Import spotipy and initialise\n",
        "import spotipy\n",
        "from spotipy.oauth2 import SpotifyClientCredentials\n",
        "client_id = 'your_client_id'\n",
        "client_secret = 'your_client_secret'\n",
        "client_credentials_manager = SpotifyClientCredentials(client_id, client_secret)\n",
        "sp = spotipy.Spotify(client_credentials_manager=client_credentials_manager)"
      ]
    },
    {
      "cell_type": "code",
      "execution_count": 5,
      "metadata": {
        "jupyter": {
          "outputs_hidden": false,
          "source_hidden": false
        },
        "nteract": {
          "transient": {
            "deleting": false
          }
        }
      },
      "outputs": [
        {
          "data": {
            "application/vnd.livy.statement-meta+json": {
              "execution_finish_time": "2023-08-25T06:10:35.7358495Z",
              "execution_start_time": "2023-08-25T06:10:24.9058574Z",
              "livy_statement_state": "available",
              "parent_msg_id": "3dde87b2-0e00-407a-b033-d72015073bca",
              "queued_time": "2023-08-25T06:10:24.753688Z",
              "session_id": "2",
              "session_start_time": null,
              "spark_jobs": null,
              "spark_pool": "spany",
              "state": "finished",
              "statement_id": 6
            },
            "text/plain": [
              "StatementMeta(spany, 2, 6, Finished, Available)"
            ]
          },
          "metadata": {},
          "output_type": "display_data"
        }
      ],
      "source": [
        "# Creating an empty lists for track features\n",
        "artist = []\n",
        "track = []\n",
        "track_popularity = []\n",
        "artist_id = []\n",
        "track_id = []\n",
        "length = []\n",
        "#Quering Track features\n",
        "for i in range(0,1000,50):\n",
        "    tracks = sp.search(q='year:2022', type = 'track', market = 'IN', limit = 50, offset = i)\n",
        "    for i, j in enumerate(tracks['tracks']['items']):\n",
        "        artist.append(j['artists'][0]['name'])\n",
        "        artist_id.append(j['artists'][0]['id'])\n",
        "        track.append(j['name'])\n",
        "        track_id.append(j['id'])\n",
        "        track_popularity.append(j['popularity'])\n",
        "        length.append(j['duration_ms'])"
      ]
    },
    {
      "cell_type": "code",
      "execution_count": 6,
      "metadata": {
        "jupyter": {
          "outputs_hidden": false,
          "source_hidden": false
        },
        "nteract": {
          "transient": {
            "deleting": false
          }
        }
      },
      "outputs": [
        {
          "data": {
            "application/vnd.livy.statement-meta+json": {
              "execution_finish_time": "2023-08-25T06:10:54.471717Z",
              "execution_start_time": "2023-08-25T06:10:53.9215913Z",
              "livy_statement_state": "available",
              "parent_msg_id": "25aae9d3-9032-488f-b4d7-0d97efed1152",
              "queued_time": "2023-08-25T06:10:53.765134Z",
              "session_id": "2",
              "session_start_time": null,
              "spark_jobs": null,
              "spark_pool": "spany",
              "state": "finished",
              "statement_id": 7
            },
            "text/plain": [
              "StatementMeta(spany, 2, 7, Finished, Available)"
            ]
          },
          "metadata": {},
          "output_type": "display_data"
        },
        {
          "name": "stdout",
          "output_type": "stream",
          "text": [
            "(1000, 6)\n"
          ]
        },
        {
          "data": {
            "text/html": [
              "<div>\n",
              "<style scoped>\n",
              "    .dataframe tbody tr th:only-of-type {\n",
              "        vertical-align: middle;\n",
              "    }\n",
              "\n",
              "    .dataframe tbody tr th {\n",
              "        vertical-align: top;\n",
              "    }\n",
              "\n",
              "    .dataframe thead th {\n",
              "        text-align: right;\n",
              "    }\n",
              "</style>\n",
              "<table border=\"1\" class=\"dataframe\">\n",
              "  <thead>\n",
              "    <tr style=\"text-align: right;\">\n",
              "      <th></th>\n",
              "      <th>Artist</th>\n",
              "      <th>Track</th>\n",
              "      <th>Track_id</th>\n",
              "      <th>Track_popularity</th>\n",
              "      <th>Artist_id</th>\n",
              "      <th>Length</th>\n",
              "    </tr>\n",
              "  </thead>\n",
              "  <tbody>\n",
              "    <tr>\n",
              "      <th>0</th>\n",
              "      <td>King</td>\n",
              "      <td>Maan Meri Jaan</td>\n",
              "      <td>1418IuVKQPTYqt7QNJ9RXN</td>\n",
              "      <td>85</td>\n",
              "      <td>5NHm4TU5Twz7owibYxJfFU</td>\n",
              "      <td>194653</td>\n",
              "    </tr>\n",
              "    <tr>\n",
              "      <th>1</th>\n",
              "      <td>Riar Saab</td>\n",
              "      <td>Obsessed</td>\n",
              "      <td>6Z4rRhYZVQsYKmrxD40tru</td>\n",
              "      <td>84</td>\n",
              "      <td>34gAaWeYZoRER7MY3KBy1Q</td>\n",
              "      <td>190444</td>\n",
              "    </tr>\n",
              "    <tr>\n",
              "      <th>2</th>\n",
              "      <td>Sachet Tandon</td>\n",
              "      <td>Malang Sajna</td>\n",
              "      <td>73K33p4Vyz9koXGqmL5eFs</td>\n",
              "      <td>84</td>\n",
              "      <td>6WOdPJmexxFINcKMkP2jMG</td>\n",
              "      <td>161041</td>\n",
              "    </tr>\n",
              "    <tr>\n",
              "      <th>3</th>\n",
              "      <td>Sharn</td>\n",
              "      <td>Mi Amor</td>\n",
              "      <td>24MMjyA3NLqCsDJfsn51eg</td>\n",
              "      <td>83</td>\n",
              "      <td>74RGMjbSsFv5RLj8wVx9Yv</td>\n",
              "      <td>203048</td>\n",
              "    </tr>\n",
              "    <tr>\n",
              "      <th>4</th>\n",
              "      <td>Shubh</td>\n",
              "      <td>No Love</td>\n",
              "      <td>08Isz2ETWSBhvIl8UpKYsp</td>\n",
              "      <td>82</td>\n",
              "      <td>5r3wPya2PpeTTsXsGhQU8O</td>\n",
              "      <td>170387</td>\n",
              "    </tr>\n",
              "    <tr>\n",
              "      <th>...</th>\n",
              "      <td>...</td>\n",
              "      <td>...</td>\n",
              "      <td>...</td>\n",
              "      <td>...</td>\n",
              "      <td>...</td>\n",
              "      <td>...</td>\n",
              "    </tr>\n",
              "    <tr>\n",
              "      <th>995</th>\n",
              "      <td>Taylor Swift</td>\n",
              "      <td>Vigilante Shit</td>\n",
              "      <td>1xwAWUI6Dj0WGC3KiUPN0O</td>\n",
              "      <td>81</td>\n",
              "      <td>06HL4z0CvFAxyc27GXpf02</td>\n",
              "      <td>164801</td>\n",
              "    </tr>\n",
              "    <tr>\n",
              "      <th>996</th>\n",
              "      <td>Stebin Ben</td>\n",
              "      <td>Jaana</td>\n",
              "      <td>3aZ4DJf6x2kPmUA0mDRrL7</td>\n",
              "      <td>54</td>\n",
              "      <td>1UAzmnFgjizIDvtHvnCdEq</td>\n",
              "      <td>231951</td>\n",
              "    </tr>\n",
              "    <tr>\n",
              "      <th>997</th>\n",
              "      <td>Sanju Rathod</td>\n",
              "      <td>Dimple - Rap Version</td>\n",
              "      <td>0ER5hjRPweXkrohnz9wWu9</td>\n",
              "      <td>54</td>\n",
              "      <td>4B9efXsA6sv4w3vts8E0T7</td>\n",
              "      <td>242777</td>\n",
              "    </tr>\n",
              "    <tr>\n",
              "      <th>998</th>\n",
              "      <td>Rema</td>\n",
              "      <td>Calm Down</td>\n",
              "      <td>6hgoYQDUcPyCz7LcTUHKxa</td>\n",
              "      <td>81</td>\n",
              "      <td>46pWGuE3dSwY3bMMXGBvVS</td>\n",
              "      <td>219813</td>\n",
              "    </tr>\n",
              "    <tr>\n",
              "      <th>999</th>\n",
              "      <td>Devi Neha Saraswat</td>\n",
              "      <td>Radhe Braj Jan Man Sukhkari</td>\n",
              "      <td>1sqer6OYvdu6rqlPmsOIyM</td>\n",
              "      <td>54</td>\n",
              "      <td>6dKTgw5CoiJT83dZF8FStx</td>\n",
              "      <td>423523</td>\n",
              "    </tr>\n",
              "  </tbody>\n",
              "</table>\n",
              "<p>1000 rows × 6 columns</p>\n",
              "</div>"
            ],
            "text/plain": [
              "                 Artist                        Track                Track_id  \\\n",
              "0                  King               Maan Meri Jaan  1418IuVKQPTYqt7QNJ9RXN   \n",
              "1             Riar Saab                     Obsessed  6Z4rRhYZVQsYKmrxD40tru   \n",
              "2         Sachet Tandon                 Malang Sajna  73K33p4Vyz9koXGqmL5eFs   \n",
              "3                 Sharn                      Mi Amor  24MMjyA3NLqCsDJfsn51eg   \n",
              "4                 Shubh                      No Love  08Isz2ETWSBhvIl8UpKYsp   \n",
              "..                  ...                          ...                     ...   \n",
              "995        Taylor Swift               Vigilante Shit  1xwAWUI6Dj0WGC3KiUPN0O   \n",
              "996          Stebin Ben                        Jaana  3aZ4DJf6x2kPmUA0mDRrL7   \n",
              "997        Sanju Rathod         Dimple - Rap Version  0ER5hjRPweXkrohnz9wWu9   \n",
              "998                Rema                    Calm Down  6hgoYQDUcPyCz7LcTUHKxa   \n",
              "999  Devi Neha Saraswat  Radhe Braj Jan Man Sukhkari  1sqer6OYvdu6rqlPmsOIyM   \n",
              "\n",
              "     Track_popularity               Artist_id  Length  \n",
              "0                  85  5NHm4TU5Twz7owibYxJfFU  194653  \n",
              "1                  84  34gAaWeYZoRER7MY3KBy1Q  190444  \n",
              "2                  84  6WOdPJmexxFINcKMkP2jMG  161041  \n",
              "3                  83  74RGMjbSsFv5RLj8wVx9Yv  203048  \n",
              "4                  82  5r3wPya2PpeTTsXsGhQU8O  170387  \n",
              "..                ...                     ...     ...  \n",
              "995                81  06HL4z0CvFAxyc27GXpf02  164801  \n",
              "996                54  1UAzmnFgjizIDvtHvnCdEq  231951  \n",
              "997                54  4B9efXsA6sv4w3vts8E0T7  242777  \n",
              "998                81  46pWGuE3dSwY3bMMXGBvVS  219813  \n",
              "999                54  6dKTgw5CoiJT83dZF8FStx  423523  \n",
              "\n",
              "[1000 rows x 6 columns]"
            ]
          },
          "execution_count": 15,
          "metadata": {},
          "output_type": "execute_result"
        }
      ],
      "source": [
        "# Store in the dataframe\n",
        "df = pd.DataFrame({'Artist' : artist, 'Track' : track, 'Track_id' : track_id, 'Track_popularity' : track_popularity, 'Artist_id' : artist_id, 'Length' : length})\n",
        "print(df.shape)\n",
        "df"
      ]
    },
    {
      "cell_type": "code",
      "execution_count": 7,
      "metadata": {
        "jupyter": {
          "outputs_hidden": false,
          "source_hidden": false
        },
        "nteract": {
          "transient": {
            "deleting": false
          }
        }
      },
      "outputs": [
        {
          "data": {
            "application/vnd.livy.statement-meta+json": {
              "execution_finish_time": "2023-08-25T06:12:05.9406993Z",
              "execution_start_time": "2023-08-25T06:10:59.2964687Z",
              "livy_statement_state": "available",
              "parent_msg_id": "e85bd435-7358-425a-9b46-342dc2d06940",
              "queued_time": "2023-08-25T06:10:59.1299645Z",
              "session_id": "2",
              "session_start_time": null,
              "spark_jobs": null,
              "spark_pool": "spany",
              "state": "finished",
              "statement_id": 8
            },
            "text/plain": [
              "StatementMeta(spany, 2, 8, Finished, Available)"
            ]
          },
          "metadata": {},
          "output_type": "display_data"
        },
        {
          "data": {
            "text/html": [
              "<div>\n",
              "<style scoped>\n",
              "    .dataframe tbody tr th:only-of-type {\n",
              "        vertical-align: middle;\n",
              "    }\n",
              "\n",
              "    .dataframe tbody tr th {\n",
              "        vertical-align: top;\n",
              "    }\n",
              "\n",
              "    .dataframe thead th {\n",
              "        text-align: right;\n",
              "    }\n",
              "</style>\n",
              "<table border=\"1\" class=\"dataframe\">\n",
              "  <thead>\n",
              "    <tr style=\"text-align: right;\">\n",
              "      <th></th>\n",
              "      <th>Artist</th>\n",
              "      <th>Track</th>\n",
              "      <th>Track_id</th>\n",
              "      <th>Track_popularity</th>\n",
              "      <th>Artist_id</th>\n",
              "      <th>Length</th>\n",
              "      <th>Artist_Popularity</th>\n",
              "      <th>Genres</th>\n",
              "      <th>Followers</th>\n",
              "    </tr>\n",
              "  </thead>\n",
              "  <tbody>\n",
              "    <tr>\n",
              "      <th>0</th>\n",
              "      <td>King</td>\n",
              "      <td>Maan Meri Jaan</td>\n",
              "      <td>1418IuVKQPTYqt7QNJ9RXN</td>\n",
              "      <td>85</td>\n",
              "      <td>5NHm4TU5Twz7owibYxJfFU</td>\n",
              "      <td>194653</td>\n",
              "      <td>70</td>\n",
              "      <td>[desi pop, hindi hip hop]</td>\n",
              "      <td>5471149</td>\n",
              "    </tr>\n",
              "    <tr>\n",
              "      <th>1</th>\n",
              "      <td>Riar Saab</td>\n",
              "      <td>Obsessed</td>\n",
              "      <td>6Z4rRhYZVQsYKmrxD40tru</td>\n",
              "      <td>84</td>\n",
              "      <td>34gAaWeYZoRER7MY3KBy1Q</td>\n",
              "      <td>190444</td>\n",
              "      <td>62</td>\n",
              "      <td>[punjabi pop]</td>\n",
              "      <td>37255</td>\n",
              "    </tr>\n",
              "    <tr>\n",
              "      <th>2</th>\n",
              "      <td>Sachet Tandon</td>\n",
              "      <td>Malang Sajna</td>\n",
              "      <td>73K33p4Vyz9koXGqmL5eFs</td>\n",
              "      <td>84</td>\n",
              "      <td>6WOdPJmexxFINcKMkP2jMG</td>\n",
              "      <td>161041</td>\n",
              "      <td>72</td>\n",
              "      <td>[desi pop, filmi, modern bollywood]</td>\n",
              "      <td>1525020</td>\n",
              "    </tr>\n",
              "    <tr>\n",
              "      <th>3</th>\n",
              "      <td>Sharn</td>\n",
              "      <td>Mi Amor</td>\n",
              "      <td>24MMjyA3NLqCsDJfsn51eg</td>\n",
              "      <td>83</td>\n",
              "      <td>74RGMjbSsFv5RLj8wVx9Yv</td>\n",
              "      <td>203048</td>\n",
              "      <td>61</td>\n",
              "      <td>[desi pop]</td>\n",
              "      <td>51610</td>\n",
              "    </tr>\n",
              "    <tr>\n",
              "      <th>4</th>\n",
              "      <td>Shubh</td>\n",
              "      <td>No Love</td>\n",
              "      <td>08Isz2ETWSBhvIl8UpKYsp</td>\n",
              "      <td>82</td>\n",
              "      <td>5r3wPya2PpeTTsXsGhQU8O</td>\n",
              "      <td>170387</td>\n",
              "      <td>76</td>\n",
              "      <td>[punjabi hip hop]</td>\n",
              "      <td>1791001</td>\n",
              "    </tr>\n",
              "    <tr>\n",
              "      <th>...</th>\n",
              "      <td>...</td>\n",
              "      <td>...</td>\n",
              "      <td>...</td>\n",
              "      <td>...</td>\n",
              "      <td>...</td>\n",
              "      <td>...</td>\n",
              "      <td>...</td>\n",
              "      <td>...</td>\n",
              "      <td>...</td>\n",
              "    </tr>\n",
              "    <tr>\n",
              "      <th>995</th>\n",
              "      <td>Taylor Swift</td>\n",
              "      <td>Vigilante Shit</td>\n",
              "      <td>1xwAWUI6Dj0WGC3KiUPN0O</td>\n",
              "      <td>81</td>\n",
              "      <td>06HL4z0CvFAxyc27GXpf02</td>\n",
              "      <td>164801</td>\n",
              "      <td>100</td>\n",
              "      <td>[pop]</td>\n",
              "      <td>83878062</td>\n",
              "    </tr>\n",
              "    <tr>\n",
              "      <th>996</th>\n",
              "      <td>Stebin Ben</td>\n",
              "      <td>Jaana</td>\n",
              "      <td>3aZ4DJf6x2kPmUA0mDRrL7</td>\n",
              "      <td>54</td>\n",
              "      <td>1UAzmnFgjizIDvtHvnCdEq</td>\n",
              "      <td>231951</td>\n",
              "      <td>62</td>\n",
              "      <td>[desi pop, filmi, modern bollywood]</td>\n",
              "      <td>1410475</td>\n",
              "    </tr>\n",
              "    <tr>\n",
              "      <th>997</th>\n",
              "      <td>Sanju Rathod</td>\n",
              "      <td>Dimple - Rap Version</td>\n",
              "      <td>0ER5hjRPweXkrohnz9wWu9</td>\n",
              "      <td>54</td>\n",
              "      <td>4B9efXsA6sv4w3vts8E0T7</td>\n",
              "      <td>242777</td>\n",
              "      <td>49</td>\n",
              "      <td>[marathi pop]</td>\n",
              "      <td>97877</td>\n",
              "    </tr>\n",
              "    <tr>\n",
              "      <th>998</th>\n",
              "      <td>Rema</td>\n",
              "      <td>Calm Down</td>\n",
              "      <td>6hgoYQDUcPyCz7LcTUHKxa</td>\n",
              "      <td>81</td>\n",
              "      <td>46pWGuE3dSwY3bMMXGBvVS</td>\n",
              "      <td>219813</td>\n",
              "      <td>77</td>\n",
              "      <td>[afrobeats, nigerian pop]</td>\n",
              "      <td>3000282</td>\n",
              "    </tr>\n",
              "    <tr>\n",
              "      <th>999</th>\n",
              "      <td>Devi Neha Saraswat</td>\n",
              "      <td>Radhe Braj Jan Man Sukhkari</td>\n",
              "      <td>1sqer6OYvdu6rqlPmsOIyM</td>\n",
              "      <td>54</td>\n",
              "      <td>6dKTgw5CoiJT83dZF8FStx</td>\n",
              "      <td>423523</td>\n",
              "      <td>34</td>\n",
              "      <td>[]</td>\n",
              "      <td>3132</td>\n",
              "    </tr>\n",
              "  </tbody>\n",
              "</table>\n",
              "<p>1000 rows × 9 columns</p>\n",
              "</div>"
            ],
            "text/plain": [
              "                 Artist                        Track                Track_id  \\\n",
              "0                  King               Maan Meri Jaan  1418IuVKQPTYqt7QNJ9RXN   \n",
              "1             Riar Saab                     Obsessed  6Z4rRhYZVQsYKmrxD40tru   \n",
              "2         Sachet Tandon                 Malang Sajna  73K33p4Vyz9koXGqmL5eFs   \n",
              "3                 Sharn                      Mi Amor  24MMjyA3NLqCsDJfsn51eg   \n",
              "4                 Shubh                      No Love  08Isz2ETWSBhvIl8UpKYsp   \n",
              "..                  ...                          ...                     ...   \n",
              "995        Taylor Swift               Vigilante Shit  1xwAWUI6Dj0WGC3KiUPN0O   \n",
              "996          Stebin Ben                        Jaana  3aZ4DJf6x2kPmUA0mDRrL7   \n",
              "997        Sanju Rathod         Dimple - Rap Version  0ER5hjRPweXkrohnz9wWu9   \n",
              "998                Rema                    Calm Down  6hgoYQDUcPyCz7LcTUHKxa   \n",
              "999  Devi Neha Saraswat  Radhe Braj Jan Man Sukhkari  1sqer6OYvdu6rqlPmsOIyM   \n",
              "\n",
              "     Track_popularity               Artist_id  Length  Artist_Popularity  \\\n",
              "0                  85  5NHm4TU5Twz7owibYxJfFU  194653                 70   \n",
              "1                  84  34gAaWeYZoRER7MY3KBy1Q  190444                 62   \n",
              "2                  84  6WOdPJmexxFINcKMkP2jMG  161041                 72   \n",
              "3                  83  74RGMjbSsFv5RLj8wVx9Yv  203048                 61   \n",
              "4                  82  5r3wPya2PpeTTsXsGhQU8O  170387                 76   \n",
              "..                ...                     ...     ...                ...   \n",
              "995                81  06HL4z0CvFAxyc27GXpf02  164801                100   \n",
              "996                54  1UAzmnFgjizIDvtHvnCdEq  231951                 62   \n",
              "997                54  4B9efXsA6sv4w3vts8E0T7  242777                 49   \n",
              "998                81  46pWGuE3dSwY3bMMXGBvVS  219813                 77   \n",
              "999                54  6dKTgw5CoiJT83dZF8FStx  423523                 34   \n",
              "\n",
              "                                  Genres  Followers  \n",
              "0              [desi pop, hindi hip hop]    5471149  \n",
              "1                          [punjabi pop]      37255  \n",
              "2    [desi pop, filmi, modern bollywood]    1525020  \n",
              "3                             [desi pop]      51610  \n",
              "4                      [punjabi hip hop]    1791001  \n",
              "..                                   ...        ...  \n",
              "995                                [pop]   83878062  \n",
              "996  [desi pop, filmi, modern bollywood]    1410475  \n",
              "997                        [marathi pop]      97877  \n",
              "998            [afrobeats, nigerian pop]    3000282  \n",
              "999                                   []       3132  \n",
              "\n",
              "[1000 rows x 9 columns]"
            ]
          },
          "execution_count": 17,
          "metadata": {},
          "output_type": "execute_result"
        }
      ],
      "source": [
        "# Creating an empty list for artist features\n",
        "artist_popularity = []\n",
        "genres = []\n",
        "followers = []\n",
        "for i in artist_id:\n",
        "    artist = sp.artist(i)\n",
        "    artist_popularity.append(artist['popularity'])\n",
        "    genres.append(artist['genres'])\n",
        "    followers.append(artist['followers']['total'])\n",
        "#Assigning the above features into dataframe 'df'\n",
        "df = df.assign(Artist_Popularity = artist_popularity, Genres = genres, Followers= followers)\n",
        "df"
      ]
    },
    {
      "cell_type": "code",
      "execution_count": null,
      "metadata": {
        "jupyter": {
          "outputs_hidden": false,
          "source_hidden": false
        },
        "nteract": {
          "transient": {
            "deleting": false
          }
        }
      },
      "outputs": [],
      "source": [
        "#Creating a empty list\n",
        "track_features = []\n",
        "#Extracting the track features by looping into track id and creating a new dataframe called \"tfeatures\"\n",
        "for i in df['Track_id']:\n",
        "    feature = sp.audio_features(i)\n",
        "    track_features.append(feature)\n",
        "tfeatures = pd.DataFrame(columns = ['danceability', 'energy', 'key', 'loudness', 'mode', 'speechiness', 'acousticness', 'instrumentalness', 'liveness', 'valence', 'tempo', 'type', 'id', 'uri', 'track_href', 'analysis_url', 'duration_ms', 'time_signature'])\n",
        "for j in track_features:\n",
        "    for k in j:\n",
        "        tfeatures = tfeatures.append(k, ignore_index=True)\n",
        "tfeatures.head()"
      ]
    },
    {
      "cell_type": "code",
      "execution_count": 9,
      "metadata": {
        "jupyter": {
          "outputs_hidden": false,
          "source_hidden": false
        },
        "nteract": {
          "transient": {
            "deleting": false
          }
        }
      },
      "outputs": [
        {
          "data": {
            "application/vnd.livy.statement-meta+json": {
              "execution_finish_time": "2023-08-25T06:13:53.9445422Z",
              "execution_start_time": "2023-08-25T06:13:53.2951342Z",
              "livy_statement_state": "available",
              "parent_msg_id": "b8106b43-8011-4130-8528-484ef70f3ca8",
              "queued_time": "2023-08-25T06:13:53.1304255Z",
              "session_id": "2",
              "session_start_time": null,
              "spark_jobs": null,
              "spark_pool": "spany",
              "state": "finished",
              "statement_id": 10
            },
            "text/plain": [
              "StatementMeta(spany, 2, 10, Finished, Available)"
            ]
          },
          "metadata": {},
          "output_type": "display_data"
        }
      ],
      "source": [
        "# Merging Track and Audio Features and stored in 'df1'\n",
        "df1 = pd.merge(df, tfeatures, how = 'inner', left_on = 'Track_id', right_on = 'id')\n",
        "# Dropping the unwanted features\n",
        "df1 = df1[['Artist', 'Track', 'Track_id', 'Track_popularity', 'Artist_id','Artist_Popularity', 'Genres', 'Followers', 'danceability','energy', 'key', 'loudness', 'mode', 'speechiness', 'acousticness','instrumentalness', 'liveness', 'valence', 'tempo', 'duration_ms']]\n",
        "#Capitalizing the Artist and Track\n",
        "df1['Artist'] = df1['Artist'].str.capitalize()\n",
        "df1['Track'] = df1['Track'].str.capitalize()\n",
        "# Changing the data type\n",
        "df1['key'] = df1['key'].astype(int)\n",
        "df1['mode'] = df1['mode'].astype(int)\n",
        "df1['instrumentalness'] = df1['instrumentalness'].astype(float)\n",
        "df1['duration_ms'] = df1['duration_ms'].astype(int)\n",
        "# Duration_ms in milliseconds. Convert into minutes\n",
        "df1['duration_ms'] = df1.apply(lambda x: round(x['duration_ms']/60000,2), axis=1)"
      ]
    },
    {
      "cell_type": "code",
      "execution_count": 15,
      "metadata": {
        "jupyter": {
          "outputs_hidden": false,
          "source_hidden": false
        },
        "nteract": {
          "transient": {
            "deleting": false
          }
        }
      },
      "outputs": [
        {
          "data": {
            "application/vnd.livy.statement-meta+json": {
              "execution_finish_time": "2023-08-25T06:39:41.0857084Z",
              "execution_start_time": "2023-08-25T06:39:40.5373543Z",
              "livy_statement_state": "available",
              "parent_msg_id": "5fced24a-1db6-4129-9c3e-197d25965b81",
              "queued_time": "2023-08-25T06:39:40.3544989Z",
              "session_id": "2",
              "session_start_time": null,
              "spark_jobs": null,
              "spark_pool": "spany",
              "state": "finished",
              "statement_id": 16
            },
            "text/plain": [
              "StatementMeta(spany, 2, 16, Finished, Available)"
            ]
          },
          "metadata": {},
          "output_type": "display_data"
        }
      ],
      "source": [
        "# Saving the Spotify.csv into the data lake.\n",
        "df1.to_csv('abfss://spany@spany.dfs.core.windows.net/spotify.csv',storage_options={'account_key':'your_account_key'})"
      ]
    }
  ],
  "metadata": {
    "kernel_info": {
      "name": "synapse_pyspark"
    },
    "kernelspec": {
      "display_name": "Synapse PySpark",
      "language": "Python",
      "name": "synapse_pyspark"
    },
    "language_info": {
      "name": "python"
    },
    "save_output": true,
    "synapse_widget": {
      "state": {},
      "version": "0.1"
    }
  },
  "nbformat": 4,
  "nbformat_minor": 2
}
